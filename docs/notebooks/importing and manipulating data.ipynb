{
 "cells": [
  {
   "cell_type": "code",
   "execution_count": 1,
   "metadata": {},
   "outputs": [],
   "source": [
    "import sys\n",
    "\n",
    "if not r'C:\\Users\\Michelle\\Documents\\GitHub\\TRANSPIRE' in sys.path:\n",
    "    sys.path.append(r'C:\\Users\\Michelle\\Documents\\GitHub\\TRANSPIRE')\n",
    "\n",
    "%load_ext autoreload\n",
    "%autoreload 2\n",
    "\n",
    "\n",
    "import TRANSPIRE"
   ]
  },
  {
   "cell_type": "markdown",
   "metadata": {},
   "source": [
    "# Importing and manipulating data for TRANSPIRE analysis"
   ]
  },
  {
   "cell_type": "markdown",
   "metadata": {},
   "source": [
    "### 1. Define file path and load data"
   ]
  },
  {
   "cell_type": "code",
   "execution_count": 2,
   "metadata": {},
   "outputs": [],
   "source": [
    "f = r'C:\\Users\\Michelle\\Desktop\\transpire_test_no_loc.csv'"
   ]
  },
  {
   "cell_type": "code",
   "execution_count": 3,
   "metadata": {},
   "outputs": [],
   "source": [
    "df = TRANSPIRE.data.import_data.load_data(f)"
   ]
  },
  {
   "cell_type": "markdown",
   "metadata": {},
   "source": [
    "### 2. Add subcellular localization annotation to markers (optional)"
   ]
  },
  {
   "cell_type": "code",
   "execution_count": 4,
   "metadata": {},
   "outputs": [],
   "source": [
    "import pandas as pd\n",
    "import numpy as np\n",
    "\n",
    "markers = pd.read_csv(r'W:\\Michelle\\2 Programming\\1 Translocation program\\JASMS_revisions\\JeanBeltran2016_markers.csv')\n",
    "markers = markers[~markers['localization'].isin(['Cytosol', 'Dense cytosol'])]\n",
    "\n",
    "df = TRANSPIRE.data.import_data.add_markers(df, markers)"
   ]
  },
  {
   "cell_type": "markdown",
   "metadata": {},
   "source": [
    "#### 2(a). Group organelles together (optional)"
   ]
  },
  {
   "cell_type": "code",
   "execution_count": 5,
   "metadata": {},
   "outputs": [],
   "source": [
    "organelle_mapping = {\n",
    "    \n",
    "    'ER': 'Organellear', \n",
    "    'Lysosome': 'Organellear', \n",
    "    'Golgi': 'Organellear', \n",
    "    'Plasma membrane':'Organellear', \n",
    "    'Mitochondria': 'Mito/Perox', \n",
    "    'Peroxisome': 'Mito/Perox'\n",
    "    \n",
    "}\n",
    "\n",
    "df = TRANSPIRE.utils.group_organelles(df, organelle_mapping)"
   ]
  },
  {
   "cell_type": "markdown",
   "metadata": {},
   "source": [
    "### 3. Define comparisons to make"
   ]
  },
  {
   "cell_type": "code",
   "execution_count": 6,
   "metadata": {},
   "outputs": [],
   "source": [
    "comparisons = list(zip(df.columns.levels[1][df.columns.levels[1].str.contains('Mock')], df.columns.levels[1][~df.columns.levels[1].str.contains('Mock')]))"
   ]
  },
  {
   "cell_type": "markdown",
   "metadata": {},
   "source": [
    "### 4. Generate synthetic translocations and label encodings"
   ]
  },
  {
   "cell_type": "code",
   "execution_count": 7,
   "metadata": {},
   "outputs": [],
   "source": [
    "synth_translocs, mapping, mapping_r = TRANSPIRE.data.generate_translocations.make_translocations(df, comparisons)"
   ]
  },
  {
   "cell_type": "code",
   "execution_count": null,
   "metadata": {},
   "outputs": [],
   "source": []
  }
 ],
 "metadata": {
  "kernelspec": {
   "display_name": "Python 3",
   "language": "python",
   "name": "python3"
  },
  "language_info": {
   "codemirror_mode": {
    "name": "ipython",
    "version": 3
   },
   "file_extension": ".py",
   "mimetype": "text/x-python",
   "name": "python",
   "nbconvert_exporter": "python",
   "pygments_lexer": "ipython3",
   "version": "3.7.5"
  }
 },
 "nbformat": 4,
 "nbformat_minor": 2
}
