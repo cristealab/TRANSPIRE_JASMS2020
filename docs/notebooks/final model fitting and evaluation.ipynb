{
 "cells": [
  {
   "cell_type": "markdown",
   "metadata": {},
   "source": [
    "\n",
    "# Final model fitting\n",
    "\n",
    "_Note: It is essential to maintain the same parameters throughout hyperparameter optimization and final model fitting (e.g. random states, train/test/validate fractions, imbalance limits, etc.). The one exception is that the number of balanced folds that are sampled can be changed largely without consequence_"
   ]
  },
  {
   "cell_type": "code",
   "execution_count": 2,
   "metadata": {},
   "outputs": [],
   "source": [
    "import TRANSPIRE\n",
    "\n",
    "import pandas as pd\n",
    "import numpy as np"
   ]
  },
  {
   "cell_type": "markdown",
   "metadata": {},
   "source": [
    "## 1. Load data, define comparisons, and generate synthetic translocations"
   ]
  },
  {
   "cell_type": "code",
   "execution_count": 3,
   "metadata": {},
   "outputs": [
    {
     "data": {
      "text/html": [
       "<div>\n",
       "<style scoped>\n",
       "    .dataframe tbody tr th:only-of-type {\n",
       "        vertical-align: middle;\n",
       "    }\n",
       "\n",
       "    .dataframe tbody tr th {\n",
       "        vertical-align: top;\n",
       "    }\n",
       "\n",
       "    .dataframe thead th {\n",
       "        text-align: right;\n",
       "    }\n",
       "</style>\n",
       "<table border=\"1\" class=\"dataframe\">\n",
       "  <thead>\n",
       "    <tr style=\"text-align: right;\">\n",
       "      <th></th>\n",
       "      <th></th>\n",
       "      <th></th>\n",
       "      <th></th>\n",
       "      <th></th>\n",
       "      <th></th>\n",
       "      <th></th>\n",
       "      <th></th>\n",
       "      <th></th>\n",
       "      <th>1</th>\n",
       "      <th>2</th>\n",
       "      <th>3</th>\n",
       "      <th>4</th>\n",
       "      <th>5</th>\n",
       "      <th>6</th>\n",
       "      <th>7</th>\n",
       "      <th>8</th>\n",
       "      <th>9</th>\n",
       "      <th>10</th>\n",
       "      <th>11</th>\n",
       "      <th>12</th>\n",
       "    </tr>\n",
       "    <tr>\n",
       "      <th>accession_A</th>\n",
       "      <th>gene name_A</th>\n",
       "      <th>localization_A</th>\n",
       "      <th>condition_A</th>\n",
       "      <th>accession_B</th>\n",
       "      <th>gene name_B</th>\n",
       "      <th>localization_B</th>\n",
       "      <th>condition_B</th>\n",
       "      <th>label</th>\n",
       "      <th></th>\n",
       "      <th></th>\n",
       "      <th></th>\n",
       "      <th></th>\n",
       "      <th></th>\n",
       "      <th></th>\n",
       "      <th></th>\n",
       "      <th></th>\n",
       "      <th></th>\n",
       "      <th></th>\n",
       "      <th></th>\n",
       "      <th></th>\n",
       "    </tr>\n",
       "  </thead>\n",
       "  <tbody>\n",
       "    <tr>\n",
       "      <td rowspan=\"5\" valign=\"top\">O00115</td>\n",
       "      <td rowspan=\"5\" valign=\"top\">DNASE2</td>\n",
       "      <td rowspan=\"5\" valign=\"top\">ER/Golgi/Lysosome</td>\n",
       "      <td rowspan=\"5\" valign=\"top\">uninfected</td>\n",
       "      <td>O00115</td>\n",
       "      <td>DNASE2</td>\n",
       "      <td>ER/Golgi/Lysosome</td>\n",
       "      <td>infected</td>\n",
       "      <td>ER/Golgi/Lysosome to ER/Golgi/Lysosome</td>\n",
       "      <td>0.121081</td>\n",
       "      <td>0.378059</td>\n",
       "      <td>0.287889</td>\n",
       "      <td>0.142575</td>\n",
       "      <td>0.056295</td>\n",
       "      <td>0.014235</td>\n",
       "      <td>0.091988</td>\n",
       "      <td>0.249011</td>\n",
       "      <td>0.334238</td>\n",
       "      <td>0.181254</td>\n",
       "      <td>0.104927</td>\n",
       "      <td>0.041090</td>\n",
       "    </tr>\n",
       "    <tr>\n",
       "      <td>O00116</td>\n",
       "      <td>AGPS</td>\n",
       "      <td>Peroxisome</td>\n",
       "      <td>infected</td>\n",
       "      <td>ER/Golgi/Lysosome to Peroxisome</td>\n",
       "      <td>0.121081</td>\n",
       "      <td>0.378059</td>\n",
       "      <td>0.287889</td>\n",
       "      <td>0.142575</td>\n",
       "      <td>0.056295</td>\n",
       "      <td>0.014235</td>\n",
       "      <td>0.035467</td>\n",
       "      <td>0.087956</td>\n",
       "      <td>0.190615</td>\n",
       "      <td>0.228672</td>\n",
       "      <td>0.353767</td>\n",
       "      <td>0.095804</td>\n",
       "    </tr>\n",
       "    <tr>\n",
       "      <td>O00151</td>\n",
       "      <td>PDLIM1</td>\n",
       "      <td>PM/Cytosol</td>\n",
       "      <td>infected</td>\n",
       "      <td>ER/Golgi/Lysosome to PM/Cytosol</td>\n",
       "      <td>0.121081</td>\n",
       "      <td>0.378059</td>\n",
       "      <td>0.287889</td>\n",
       "      <td>0.142575</td>\n",
       "      <td>0.056295</td>\n",
       "      <td>0.014235</td>\n",
       "      <td>0.298505</td>\n",
       "      <td>0.273591</td>\n",
       "      <td>0.136350</td>\n",
       "      <td>0.124446</td>\n",
       "      <td>0.101276</td>\n",
       "      <td>0.051836</td>\n",
       "    </tr>\n",
       "    <tr>\n",
       "      <td>O00161</td>\n",
       "      <td>SNAP23</td>\n",
       "      <td>PM/Cytosol</td>\n",
       "      <td>infected</td>\n",
       "      <td>ER/Golgi/Lysosome to PM/Cytosol</td>\n",
       "      <td>0.121081</td>\n",
       "      <td>0.378059</td>\n",
       "      <td>0.287889</td>\n",
       "      <td>0.142575</td>\n",
       "      <td>0.056295</td>\n",
       "      <td>0.014235</td>\n",
       "      <td>0.303401</td>\n",
       "      <td>0.275456</td>\n",
       "      <td>0.219409</td>\n",
       "      <td>0.094259</td>\n",
       "      <td>0.065571</td>\n",
       "      <td>0.027320</td>\n",
       "    </tr>\n",
       "    <tr>\n",
       "      <td>O00186</td>\n",
       "      <td>STXBP3</td>\n",
       "      <td>PM/Cytosol</td>\n",
       "      <td>infected</td>\n",
       "      <td>ER/Golgi/Lysosome to PM/Cytosol</td>\n",
       "      <td>0.121081</td>\n",
       "      <td>0.378059</td>\n",
       "      <td>0.287889</td>\n",
       "      <td>0.142575</td>\n",
       "      <td>0.056295</td>\n",
       "      <td>0.014235</td>\n",
       "      <td>0.251250</td>\n",
       "      <td>0.279922</td>\n",
       "      <td>0.220812</td>\n",
       "      <td>0.102742</td>\n",
       "      <td>0.089897</td>\n",
       "      <td>0.047200</td>\n",
       "    </tr>\n",
       "  </tbody>\n",
       "</table>\n",
       "</div>"
      ],
      "text/plain": [
       "                                                                                                                                                          1   \\\n",
       "accession_A gene name_A localization_A    condition_A accession_B gene name_B localization_B    condition_B label                                              \n",
       "O00115      DNASE2      ER/Golgi/Lysosome uninfected  O00115      DNASE2      ER/Golgi/Lysosome infected    ER/Golgi/Lysosome to ER/Golgi/Lysosome  0.121081   \n",
       "                                                      O00116      AGPS        Peroxisome        infected    ER/Golgi/Lysosome to Peroxisome         0.121081   \n",
       "                                                      O00151      PDLIM1      PM/Cytosol        infected    ER/Golgi/Lysosome to PM/Cytosol         0.121081   \n",
       "                                                      O00161      SNAP23      PM/Cytosol        infected    ER/Golgi/Lysosome to PM/Cytosol         0.121081   \n",
       "                                                      O00186      STXBP3      PM/Cytosol        infected    ER/Golgi/Lysosome to PM/Cytosol         0.121081   \n",
       "\n",
       "                                                                                                                                                          2   \\\n",
       "accession_A gene name_A localization_A    condition_A accession_B gene name_B localization_B    condition_B label                                              \n",
       "O00115      DNASE2      ER/Golgi/Lysosome uninfected  O00115      DNASE2      ER/Golgi/Lysosome infected    ER/Golgi/Lysosome to ER/Golgi/Lysosome  0.378059   \n",
       "                                                      O00116      AGPS        Peroxisome        infected    ER/Golgi/Lysosome to Peroxisome         0.378059   \n",
       "                                                      O00151      PDLIM1      PM/Cytosol        infected    ER/Golgi/Lysosome to PM/Cytosol         0.378059   \n",
       "                                                      O00161      SNAP23      PM/Cytosol        infected    ER/Golgi/Lysosome to PM/Cytosol         0.378059   \n",
       "                                                      O00186      STXBP3      PM/Cytosol        infected    ER/Golgi/Lysosome to PM/Cytosol         0.378059   \n",
       "\n",
       "                                                                                                                                                          3   \\\n",
       "accession_A gene name_A localization_A    condition_A accession_B gene name_B localization_B    condition_B label                                              \n",
       "O00115      DNASE2      ER/Golgi/Lysosome uninfected  O00115      DNASE2      ER/Golgi/Lysosome infected    ER/Golgi/Lysosome to ER/Golgi/Lysosome  0.287889   \n",
       "                                                      O00116      AGPS        Peroxisome        infected    ER/Golgi/Lysosome to Peroxisome         0.287889   \n",
       "                                                      O00151      PDLIM1      PM/Cytosol        infected    ER/Golgi/Lysosome to PM/Cytosol         0.287889   \n",
       "                                                      O00161      SNAP23      PM/Cytosol        infected    ER/Golgi/Lysosome to PM/Cytosol         0.287889   \n",
       "                                                      O00186      STXBP3      PM/Cytosol        infected    ER/Golgi/Lysosome to PM/Cytosol         0.287889   \n",
       "\n",
       "                                                                                                                                                          4   \\\n",
       "accession_A gene name_A localization_A    condition_A accession_B gene name_B localization_B    condition_B label                                              \n",
       "O00115      DNASE2      ER/Golgi/Lysosome uninfected  O00115      DNASE2      ER/Golgi/Lysosome infected    ER/Golgi/Lysosome to ER/Golgi/Lysosome  0.142575   \n",
       "                                                      O00116      AGPS        Peroxisome        infected    ER/Golgi/Lysosome to Peroxisome         0.142575   \n",
       "                                                      O00151      PDLIM1      PM/Cytosol        infected    ER/Golgi/Lysosome to PM/Cytosol         0.142575   \n",
       "                                                      O00161      SNAP23      PM/Cytosol        infected    ER/Golgi/Lysosome to PM/Cytosol         0.142575   \n",
       "                                                      O00186      STXBP3      PM/Cytosol        infected    ER/Golgi/Lysosome to PM/Cytosol         0.142575   \n",
       "\n",
       "                                                                                                                                                          5   \\\n",
       "accession_A gene name_A localization_A    condition_A accession_B gene name_B localization_B    condition_B label                                              \n",
       "O00115      DNASE2      ER/Golgi/Lysosome uninfected  O00115      DNASE2      ER/Golgi/Lysosome infected    ER/Golgi/Lysosome to ER/Golgi/Lysosome  0.056295   \n",
       "                                                      O00116      AGPS        Peroxisome        infected    ER/Golgi/Lysosome to Peroxisome         0.056295   \n",
       "                                                      O00151      PDLIM1      PM/Cytosol        infected    ER/Golgi/Lysosome to PM/Cytosol         0.056295   \n",
       "                                                      O00161      SNAP23      PM/Cytosol        infected    ER/Golgi/Lysosome to PM/Cytosol         0.056295   \n",
       "                                                      O00186      STXBP3      PM/Cytosol        infected    ER/Golgi/Lysosome to PM/Cytosol         0.056295   \n",
       "\n",
       "                                                                                                                                                          6   \\\n",
       "accession_A gene name_A localization_A    condition_A accession_B gene name_B localization_B    condition_B label                                              \n",
       "O00115      DNASE2      ER/Golgi/Lysosome uninfected  O00115      DNASE2      ER/Golgi/Lysosome infected    ER/Golgi/Lysosome to ER/Golgi/Lysosome  0.014235   \n",
       "                                                      O00116      AGPS        Peroxisome        infected    ER/Golgi/Lysosome to Peroxisome         0.014235   \n",
       "                                                      O00151      PDLIM1      PM/Cytosol        infected    ER/Golgi/Lysosome to PM/Cytosol         0.014235   \n",
       "                                                      O00161      SNAP23      PM/Cytosol        infected    ER/Golgi/Lysosome to PM/Cytosol         0.014235   \n",
       "                                                      O00186      STXBP3      PM/Cytosol        infected    ER/Golgi/Lysosome to PM/Cytosol         0.014235   \n",
       "\n",
       "                                                                                                                                                          7   \\\n",
       "accession_A gene name_A localization_A    condition_A accession_B gene name_B localization_B    condition_B label                                              \n",
       "O00115      DNASE2      ER/Golgi/Lysosome uninfected  O00115      DNASE2      ER/Golgi/Lysosome infected    ER/Golgi/Lysosome to ER/Golgi/Lysosome  0.091988   \n",
       "                                                      O00116      AGPS        Peroxisome        infected    ER/Golgi/Lysosome to Peroxisome         0.035467   \n",
       "                                                      O00151      PDLIM1      PM/Cytosol        infected    ER/Golgi/Lysosome to PM/Cytosol         0.298505   \n",
       "                                                      O00161      SNAP23      PM/Cytosol        infected    ER/Golgi/Lysosome to PM/Cytosol         0.303401   \n",
       "                                                      O00186      STXBP3      PM/Cytosol        infected    ER/Golgi/Lysosome to PM/Cytosol         0.251250   \n",
       "\n",
       "                                                                                                                                                          8   \\\n",
       "accession_A gene name_A localization_A    condition_A accession_B gene name_B localization_B    condition_B label                                              \n",
       "O00115      DNASE2      ER/Golgi/Lysosome uninfected  O00115      DNASE2      ER/Golgi/Lysosome infected    ER/Golgi/Lysosome to ER/Golgi/Lysosome  0.249011   \n",
       "                                                      O00116      AGPS        Peroxisome        infected    ER/Golgi/Lysosome to Peroxisome         0.087956   \n",
       "                                                      O00151      PDLIM1      PM/Cytosol        infected    ER/Golgi/Lysosome to PM/Cytosol         0.273591   \n",
       "                                                      O00161      SNAP23      PM/Cytosol        infected    ER/Golgi/Lysosome to PM/Cytosol         0.275456   \n",
       "                                                      O00186      STXBP3      PM/Cytosol        infected    ER/Golgi/Lysosome to PM/Cytosol         0.279922   \n",
       "\n",
       "                                                                                                                                                          9   \\\n",
       "accession_A gene name_A localization_A    condition_A accession_B gene name_B localization_B    condition_B label                                              \n",
       "O00115      DNASE2      ER/Golgi/Lysosome uninfected  O00115      DNASE2      ER/Golgi/Lysosome infected    ER/Golgi/Lysosome to ER/Golgi/Lysosome  0.334238   \n",
       "                                                      O00116      AGPS        Peroxisome        infected    ER/Golgi/Lysosome to Peroxisome         0.190615   \n",
       "                                                      O00151      PDLIM1      PM/Cytosol        infected    ER/Golgi/Lysosome to PM/Cytosol         0.136350   \n",
       "                                                      O00161      SNAP23      PM/Cytosol        infected    ER/Golgi/Lysosome to PM/Cytosol         0.219409   \n",
       "                                                      O00186      STXBP3      PM/Cytosol        infected    ER/Golgi/Lysosome to PM/Cytosol         0.220812   \n",
       "\n",
       "                                                                                                                                                          10  \\\n",
       "accession_A gene name_A localization_A    condition_A accession_B gene name_B localization_B    condition_B label                                              \n",
       "O00115      DNASE2      ER/Golgi/Lysosome uninfected  O00115      DNASE2      ER/Golgi/Lysosome infected    ER/Golgi/Lysosome to ER/Golgi/Lysosome  0.181254   \n",
       "                                                      O00116      AGPS        Peroxisome        infected    ER/Golgi/Lysosome to Peroxisome         0.228672   \n",
       "                                                      O00151      PDLIM1      PM/Cytosol        infected    ER/Golgi/Lysosome to PM/Cytosol         0.124446   \n",
       "                                                      O00161      SNAP23      PM/Cytosol        infected    ER/Golgi/Lysosome to PM/Cytosol         0.094259   \n",
       "                                                      O00186      STXBP3      PM/Cytosol        infected    ER/Golgi/Lysosome to PM/Cytosol         0.102742   \n",
       "\n",
       "                                                                                                                                                          11  \\\n",
       "accession_A gene name_A localization_A    condition_A accession_B gene name_B localization_B    condition_B label                                              \n",
       "O00115      DNASE2      ER/Golgi/Lysosome uninfected  O00115      DNASE2      ER/Golgi/Lysosome infected    ER/Golgi/Lysosome to ER/Golgi/Lysosome  0.104927   \n",
       "                                                      O00116      AGPS        Peroxisome        infected    ER/Golgi/Lysosome to Peroxisome         0.353767   \n",
       "                                                      O00151      PDLIM1      PM/Cytosol        infected    ER/Golgi/Lysosome to PM/Cytosol         0.101276   \n",
       "                                                      O00161      SNAP23      PM/Cytosol        infected    ER/Golgi/Lysosome to PM/Cytosol         0.065571   \n",
       "                                                      O00186      STXBP3      PM/Cytosol        infected    ER/Golgi/Lysosome to PM/Cytosol         0.089897   \n",
       "\n",
       "                                                                                                                                                          12  \n",
       "accession_A gene name_A localization_A    condition_A accession_B gene name_B localization_B    condition_B label                                             \n",
       "O00115      DNASE2      ER/Golgi/Lysosome uninfected  O00115      DNASE2      ER/Golgi/Lysosome infected    ER/Golgi/Lysosome to ER/Golgi/Lysosome  0.041090  \n",
       "                                                      O00116      AGPS        Peroxisome        infected    ER/Golgi/Lysosome to Peroxisome         0.095804  \n",
       "                                                      O00151      PDLIM1      PM/Cytosol        infected    ER/Golgi/Lysosome to PM/Cytosol         0.051836  \n",
       "                                                      O00161      SNAP23      PM/Cytosol        infected    ER/Golgi/Lysosome to PM/Cytosol         0.027320  \n",
       "                                                      O00186      STXBP3      PM/Cytosol        infected    ER/Golgi/Lysosome to PM/Cytosol         0.047200  "
      ]
     },
     "execution_count": 3,
     "metadata": {},
     "output_type": "execute_result"
    }
   ],
   "source": [
    "f = 'mydata.csv'\n",
    "df = TRANSPIRE.data.import_data.load_data(f)\n",
    "\n",
    "comparisons = [('uninfected', 'infected')]\n",
    "\n",
    "synthetic_translocations = TRANSPIRE.data.generate_translocations.make_translocations(df, comparisons)\n",
    "mapping, mapping_r = TRANSPIRE.utils.get_mapping(df)\n",
    "\n",
    "synthetic_translocations.head()"
   ]
  },
  {
   "cell_type": "markdown",
   "metadata": {},
   "source": [
    "## 2. Split the data into training, validation and testing partitions"
   ]
  },
  {
   "cell_type": "code",
   "execution_count": 19,
   "metadata": {},
   "outputs": [
    {
     "name": "stdout",
     "output_type": "stream",
     "text": [
      "Splitting data into training, validation, and testing folds (this may take a while) . . . done\n"
     ]
    }
   ],
   "source": [
    "f_train = 0.5 # fraction dedicated to training data\n",
    "f_validate = 0.25 # fraction dedicated to validation (i.e. used to assess hyperparameter performance)\n",
    "f_test = 0.25 # fraction dedicated to assessing final predictive performance\n",
    "\n",
    "levels = ['condition_A', 'condition_B', 'label'] # groupby levels to take stratified samples from\n",
    "\n",
    "X_train_df, X_validate_df, X_test_df = TRANSPIRE.utils.train_test_validate_split(synthetic_translocations, \n",
    "                                                                                 levels, \n",
    "                                                                                 f_train, \n",
    "                                                                                 f_validate, \n",
    "                                                                                 f_test)\n",
    "\n",
    "X_train_validate = pd.concat([X_train_df, X_validate_df])"
   ]
  },
  {
   "cell_type": "markdown",
   "metadata": {},
   "source": [
    "## 3. Split the training data into a given number of class-balanced folds\n",
    "\n",
    "**Note that the training data, here, consists of the training AND validation partitions**\n",
    "\n",
    "Depending on the number of markers in each class, the synthetic translocations generated may have a high level of class-imbalance. If there is overlap between organelle marker clases, this can result in classifier predictions that are biased toward the class with more samples.\n",
    "\n",
    "To prevent prediction bias due to class imbalance, TRANSPIRE has a utility for generating different folds of balanced training data based on a given \"imbalance_limit.\"\n",
    "\n",
    "In general, more folds will yield better coverage of the training data, but at the expense of computation time. A highter imbalance_limit will overall increase coverage of the training data for a given fold, but may lead to poor model performance if there is high overlap between classes.\n",
    "\n",
    "_Note: In contrast to k-fold cross-validation, these folds will overlap for any classes where the number of samples is less-than n_limit * n_folds_"
   ]
  },
  {
   "cell_type": "code",
   "execution_count": 6,
   "metadata": {},
   "outputs": [
    {
     "name": "stdout",
     "output_type": "stream",
     "text": [
      "The total number of folds required to cover all of the training data for each class is: 131\n"
     ]
    }
   ],
   "source": [
    "imbal_limit = 3 # maximum fold difference between smallest and largest class sizes\n",
    "n_limit = X_train_validate.groupby(['condition_A', 'condition_B']).apply(lambda y: y.groupby('label').size().min()*imbal_limit)\n",
    "\n",
    "print('The total number of folds required to cover all of the training data for each class is: {}'.format(int(np.ceil(X_train_validate.groupby(['condition_A', 'condition_B']).apply(lambda y: max(y.groupby('label').size()/n_limit[y.name])).max()))))"
   ]
  },
  {
   "cell_type": "code",
   "execution_count": 7,
   "metadata": {},
   "outputs": [
    {
     "name": "stdout",
     "output_type": "stream",
     "text": [
      "Creating balanced training partitions (this may take a while).... done\n"
     ]
    }
   ],
   "source": [
    "n_folds = 23 # number of balanced folds to sample from the dataset (note that these folds will overlap for any classes where its size < n_folds*n_limit)\n",
    "training_data = X_train_validate.groupby(['condition_A', 'condition_B'], group_keys=False).apply(lambda x: TRANSPIRE.utils.sample_balanced(x, n_limit[x.name], n_folds))"
   ]
  },
  {
   "cell_type": "markdown",
   "metadata": {},
   "source": [
    "## 4. Define model parameters and architecture"
   ]
  },
  {
   "cell_type": "code",
   "execution_count": 10,
   "metadata": {},
   "outputs": [],
   "source": [
    "import tensorflow as tf\n",
    "tf.logging.set_verbosity(tf.logging.ERROR)\n",
    "\n",
    "import gpflow\n",
    "\n",
    "# where to save the models (make sure that this path exists)\n",
    "base_dir = r'final_models'\n",
    "\n",
    "# n_induce and kern_func found via hyperparameter optimization (or not...)\n",
    "n_induce = 30\n",
    "kern_func = gpflow.kernels.SquaredExponential\n",
    "\n",
    "# max number of calls to the optimizer for each model that is built\n",
    "maxiter = 200\n",
    "\n",
    "# learning rate for the Adam optimizer \n",
    "# too low of a learning rate will prevent the model from reaching an optimal solution\n",
    "# too high and the fitting may diverge\n",
    "# 0.05 is a good starting point\n",
    "learning_rate = 0.05\n",
    "\n",
    "# whether to implement interactive plotting to track fit progress\n",
    "plot_fit = True"
   ]
  },
  {
   "cell_type": "markdown",
   "metadata": {},
   "source": [
    "## 5. Compute inducing points up-front (optional)\n",
    "\n",
    "There are no downsides to performing this step, but it will prevent repeat KMeans fitting of the inducing points in the event that there are multiple hyperparameter combinations with the same n_induce or multiple folds are fitted"
   ]
  },
  {
   "cell_type": "code",
   "execution_count": 11,
   "metadata": {},
   "outputs": [],
   "source": [
    "import TRANSPIRE.training\n",
    "\n",
    "# fit KMeans to training data for different n_induce\n",
    "Z_induce = {}\n",
    "\n",
    "for k, x in training_data.groupby(['condition_A', 'condition_B', 'fold']):\n",
    "\n",
    "    Z_induce[k] = TRANSPIRE.training.compute_inducing(x, n_induce)\n"
   ]
  },
  {
   "cell_type": "markdown",
   "metadata": {},
   "source": [
    "## 6. Train and save models for n-folds of each combination of conditions defined in comparisons"
   ]
  },
  {
   "cell_type": "markdown",
   "metadata": {},
   "source": [
    "**custom callback to visualize model training**"
   ]
  },
  {
   "cell_type": "code",
   "execution_count": 12,
   "metadata": {},
   "outputs": [],
   "source": [
    "%matplotlib inline\n",
    "\n",
    "from IPython import display\n",
    "\n",
    "class PlottingCallback(TRANSPIRE.training.ProgressTracker):\n",
    "    def __init__(self, m, X, Y, update_interval):\n",
    "        super().__init__(m, X, Y)\n",
    "        \n",
    "        self.calls = 0\n",
    "        self.update_interval = update_interval\n",
    "        self.update()\n",
    "        \n",
    "        ax.set_xlim(0, maxiter+1)\n",
    "        ax.set_ylim(self.elbo[0], 0)\n",
    "        ax_2.set_ylim(0, 1)\n",
    "         \n",
    "    def update_plot(self, i):\n",
    "        self.calls+=1\n",
    "        self.update()\n",
    "                \n",
    "        if self.calls%self.update_interval == 0:\n",
    "            ax.set_title('iteration # {}'.format(self.calls))\n",
    "        \n",
    "            x = [int(self.update_interval*i) for i in range(int(np.ceil(len(self.elbo)/self.update_interval)))]\n",
    "            elbo = [np.mean(np.array(self.elbo)[x[i]:x[i+1]]) for i in range(len(x)-1)]\n",
    "            acc = [np.mean(np.array(self.acc)[x[i]:x[i+1]]) for i in range(len(x)-1)]\n",
    "           \n",
    "            elbo_line, = ax.plot(x[:-1], elbo, color = 'grey', label='ELBO')\n",
    "            acc_line, = ax_2.plot(x[:-1], acc, color='steelblue', label= 'accuracy')\n",
    "            \n",
    "            ax.set_xlabel('iteration #')\n",
    "            ax.set_ylabel('ELBO')\n",
    "            ax_2.set_ylabel('accuracy')\n",
    "            \n",
    "            ax.legend(handles=[elbo_line, acc_line], loc=4)\n",
    "\n",
    "            fig.tight_layout()\n",
    "            \n",
    "            display.clear_output(wait=True)\n",
    "            display.display(fig)\n",
    "    "
   ]
  },
  {
   "cell_type": "code",
   "execution_count": 17,
   "metadata": {},
   "outputs": [
    {
     "data": {
      "image/png": "[encoded data removed]",
      "text/plain": [
       "<Figure size 432x288 with 2 Axes>"
      ]
     },
     "metadata": {},
     "output_type": "display_data"
    }
   ],
   "source": [
    "import tensorflow as tf\n",
    "tf.logging.set_verbosity(tf.logging.ERROR)\n",
    "\n",
    "import gpflow\n",
    "import os\n",
    "\n",
    "%matplotlib inline\n",
    "\n",
    "gpflow.reset_default_graph_and_session()\n",
    "\n",
    "if plot_fit == True:\n",
    "\n",
    "    import matplotlib.pyplot as plt\n",
    "    \n",
    "    # for tracking fitting progress\n",
    "    fig = plt.figure()\n",
    "    ax = fig.add_subplot(111)\n",
    "    ax_2 = ax.twinx()\n",
    "    plt.show()\n",
    "\n",
    "# build and fit a model for each set of conditions for each fold of training data\n",
    "for (condA, condB, fold), X_train in training_data.groupby(['condition_A', 'condition_B', 'fold']):\n",
    "    \n",
    "    X = X_train.values\n",
    "    y = X_train.index.get_level_values('label').map(mapping).values.reshape(-1, 1) # encode labels\n",
    "    Z = Z_induce[k] # set of inducing points already pre-calculated\n",
    "\n",
    "    # define kernel function (with noise kernel added)\n",
    "    kernel = kern_func(X.shape[1], ARD=True) + gpflow.kernels.White(X.shape[1], variance=1)\n",
    "\n",
    "    # parameters required to build model\n",
    "    model_params = {\n",
    "\n",
    "        'Z': Z, # if Z is omitted from this dict, KMeans will be used to find n_inducing points during moldel generation\n",
    "        'n_induce': n_induce, # only really required if Z is omitted\n",
    "        'kernel': kernel,\n",
    "    }\n",
    "\n",
    "    # build the SVGP model\n",
    "    m = TRANSPIRE.training.build_model(X, y, **model_params)\n",
    "\n",
    "    # allow the optimizer to train both inducing points and the noise level (optional...one or more may be set to false--up to user-discresssion)\n",
    "    m.feature.Z.trainable = True\n",
    "    m.kern.kernels[1].trainable = True\n",
    "\n",
    "    session = gpflow.get_default_session()\n",
    "\n",
    "    if plot_fit == True:\n",
    "        \n",
    "        ax.clear()\n",
    "        ax_2.clear()\n",
    "        window = max(1, int(maxiter/50))\n",
    "        callback = PlottingCallback(m, X, y, window)\n",
    "        \n",
    "        opt = gpflow.training.AdamOptimizer(learning_rate=learning_rate)\n",
    "        opt.minimize(m, maxiter=maxiter, step_callback=callback.update_plot)\n",
    "\n",
    "    else:\n",
    "\n",
    "        opt = gpflow.training.AdamOptimizer(learning_rate=learning_rate)\n",
    "        opt.minimize(m, maxiter=maxiter)\n",
    "\n",
    "    # save the optimized model \n",
    "    m.anchor(session)\n",
    "    gpflow.saver.Saver().save(os.path.join(base_dir, 'ELBO={:.0f}_{}_{}_{}'.format(m.compute_log_likelihood(X), condA, condB, fold)), m)\n",
    "\n",
    "    # this line is EXTREMELY IMPORTANT to prevent the tensorflow graph from continuing to grow call-after-call\n",
    "    gpflow.reset_default_graph_and_session()\n",
    "    \n"
   ]
  },
  {
   "cell_type": "markdown",
   "metadata": {},
   "source": [
    "## 7. Evaluate each model on the testing data"
   ]
  },
  {
   "cell_type": "code",
   "execution_count": 23,
   "metadata": {},
   "outputs": [
    {
     "name": "stdout",
     "output_type": "stream",
     "text": [
      "ELBO=-1207_uninfected_infected_1\n",
      "ELBO=-1208_uninfected_infected_2\n",
      "ELBO=-1214_uninfected_infected_3\n",
      "ELBO=-1329_uninfected_infected_4\n",
      "ELBO=-1235_uninfected_infected_5\n",
      "ELBO=-1271_uninfected_infected_6\n",
      "ELBO=-1210_uninfected_infected_7\n",
      "ELBO=-1223_uninfected_infected_8\n",
      "ELBO=-1241_uninfected_infected_9\n",
      "ELBO=-1242_uninfected_infected_10\n",
      "ELBO=-1228_uninfected_infected_11\n",
      "ELBO=-1234_uninfected_infected_12\n",
      "ELBO=-1220_uninfected_infected_13\n",
      "ELBO=-1249_uninfected_infected_14\n",
      "ELBO=-1207_uninfected_infected_15\n",
      "ELBO=-1253_uninfected_infected_16\n",
      "ELBO=-1255_uninfected_infected_17\n",
      "ELBO=-1256_uninfected_infected_18\n",
      "ELBO=-1207_uninfected_infected_19\n",
      "ELBO=-1241_uninfected_infected_20\n",
      "ELBO=-1213_uninfected_infected_21\n",
      "ELBO=-1251_uninfected_infected_22\n",
      "ELBO=-1207_uninfected_infected_23\n"
     ]
    }
   ],
   "source": [
    "import os\n",
    "\n",
    "eval_limit = 10000 # max number of samples to evaluate at once (conserve RAM usage)\n",
    "n_chunks = int(np.ceil(X_test_df.shape[0]/eval_limit))\n",
    "\n",
    "result = {}\n",
    "\n",
    "gpflow.reset_default_graph_and_session()\n",
    "\n",
    "for k, _ in training_data.groupby(['condition_A', 'condition_B', 'fold']):\n",
    "    \n",
    "    condA, condB, fold = k\n",
    "    \n",
    "    m_path = [path for path in os.listdir(base_dir) if (all([str(s) in path for s in k])&(path.endswith('_{}'.format(k[-1]))))][0]\n",
    "    \n",
    "    if os.path.exists(os.path.join(base_dir, m_path)):\n",
    "        m = gpflow.saver.Saver().load(os.path.join(base_dir, m_path))\n",
    "\n",
    "        X = X_test_df[(X_test_df.index.get_level_values('condition_A')==condA) &(X_test_df.index.get_level_values('condition_B')==condB)]\n",
    "\n",
    "        means = []\n",
    "        vars_ = []\n",
    "\n",
    "        for i, arr in enumerate(np.array_split(X, n_chunks)):\n",
    "            mns, vrs_ = m.predict_y(arr.values)\n",
    "\n",
    "            mns = pd.DataFrame(mns, index=arr.index).reset_index(['condition_A', 'condition_B'], drop=True)\n",
    "            vrs_ = pd.DataFrame(vrs_, index = arr.index).reset_index(['condition_A', 'condition_B'], drop=True)\n",
    "\n",
    "            means.append(mns)\n",
    "            vars_.append(vrs_)\n",
    "\n",
    "        means = pd.concat(means)\n",
    "        vars_ = pd.concat(vars_)\n",
    "\n",
    "        result[(condA, condB, fold)] = pd.concat([means, vars_], axis=1, keys = ['score','uncertainty'])\n",
    "\n",
    "        gpflow.reset_default_graph_and_session()\n",
    "        \n",
    "        print(m_path)\n",
    "\n",
    "    \n",
    "result = pd.concat(result, names = ['condition_A', 'condition_B', 'fold'])"
   ]
  },
  {
   "cell_type": "markdown",
   "metadata": {},
   "source": [
    "## 9. Evaluate predictive performance\n"
   ]
  },
  {
   "cell_type": "code",
   "execution_count": 28,
   "metadata": {},
   "outputs": [],
   "source": [
    "import TRANSPIRE.performance\n",
    "\n",
    "performance = result.score.groupby(['condition_A', 'condition_B', 'fold']).apply(lambda x: TRANSPIRE.performance.eval_report(x, mapping, mapping_r))"
   ]
  },
  {
   "cell_type": "markdown",
   "metadata": {},
   "source": [
    "**Evaluation metrics**"
   ]
  },
  {
   "cell_type": "code",
   "execution_count": 33,
   "metadata": {},
   "outputs": [
    {
     "data": {
      "image/png": "[encoded data removed]",
      "text/plain": [
       "<Figure size 2160x360 with 6 Axes>"
      ]
     },
     "metadata": {
      "needs_background": "light"
     },
     "output_type": "display_data"
    }
   ],
   "source": [
    "import seaborn as sns\n",
    "import matplotlib.pyplot as plt\n",
    "\n",
    "%matplotlib inline\n",
    "\n",
    "temp = performance['singular metrics'].dropna()\n",
    "sns.catplot(data=temp.reset_index().melt(temp.index.names), col='metric', sharey=False, y='value', kind='box')\n",
    "\n",
    "plt.show()"
   ]
  },
  {
   "cell_type": "markdown",
   "metadata": {},
   "source": [
    "**Per-class performance**"
   ]
  },
  {
   "cell_type": "code",
   "execution_count": 34,
   "metadata": {},
   "outputs": [
    {
     "data": {
      "image/png": "[encoded data removed]",
      "text/plain": [
       "<Figure size 756x360 with 1 Axes>"
      ]
     },
     "metadata": {
      "needs_background": "light"
     },
     "output_type": "display_data"
    }
   ],
   "source": [
    "temp = performance['F1 score (per class)']\n",
    "\n",
    "fig, ax = plt.subplots(figsize = (10.5, 5))\n",
    "\n",
    "order = temp.mean().sort_values().index.values.tolist()\n",
    "\n",
    "sns.boxplot(data=temp.reset_index().melt(temp.index.names), hue='metric', x='metric', y='value', \n",
    "            dodge=False, order=order, hue_order=order)\n",
    "\n",
    "ax.get_legend().remove()\n",
    "ax.set_xticklabels(ax.get_xticklabels(), rotation=45, ha='right')\n",
    "\n",
    "ax.set_xlabel('class label')\n",
    "ax.set_ylabel('F1 score')\n",
    "\n",
    "fig.tight_layout()\n",
    "plt.show()"
   ]
  },
  {
   "cell_type": "markdown",
   "metadata": {},
   "source": [
    "## 10. Compute FPR cutoff(s) for translocation scores"
   ]
  },
  {
   "cell_type": "code",
   "execution_count": 40,
   "metadata": {},
   "outputs": [],
   "source": [
    "binary = TRANSPIRE.utils.map_binary(result.score, mapping_r)\n",
    "fprs = binary.groupby(['condition_A', 'condition_B', 'fold']).apply(TRANSPIRE.performance.compute_fpr)\n",
    "\n",
    "cutoff_fpr = 0.01 # 1% FPR cutoff\n",
    "cutoffs = fprs[fprs<cutoff_fpr].idxmax(axis=1).groupby(['condition_A', 'condition_B']).mean()"
   ]
  },
  {
   "cell_type": "code",
   "execution_count": 41,
   "metadata": {},
   "outputs": [
    {
     "data": {
      "text/plain": [
       "condition_A  condition_B\n",
       "uninfected   infected       0.448397\n",
       "dtype: float64"
      ]
     },
     "execution_count": 41,
     "metadata": {},
     "output_type": "execute_result"
    }
   ],
   "source": [
    "cutoffs"
   ]
  },
  {
   "cell_type": "code",
   "execution_count": 43,
   "metadata": {},
   "outputs": [
    {
     "data": {
      "image/png": "[encoded data removed]",
      "text/plain": [
       "<Figure size 244.8x288 with 1 Axes>"
      ]
     },
     "metadata": {
      "needs_background": "light"
     },
     "output_type": "display_data"
    }
   ],
   "source": [
    "g=sns.FacetGrid(data=fprs.reset_index().melt(fprs.index.names), col='condition_B', \n",
    "                height=4, aspect = 0.85,\n",
    "                hue='condition_B',\n",
    "\n",
    "               )\n",
    "g.map(sns.lineplot, 'variable', 'value', ci='sd')\n",
    "g.set_titles(row_template = '{row_name}', col_template = '{col_name}')\n",
    "\n",
    "for i, ax in enumerate(g.axes.flatten()):\n",
    "    ax.set_xlabel('translocation score')\n",
    "\n",
    "    if i==0:\n",
    "        ax.set_ylabel('false-positive rate')\n",
    "\n",
    "ax.get_figure().tight_layout()\n",
    "\n",
    "plt.show()"
   ]
  },
  {
   "cell_type": "markdown",
   "metadata": {},
   "source": [
    "## 11. Evaluate models on the actual data\n",
    "**load models and evaluate the actual data**"
   ]
  },
  {
   "cell_type": "code",
   "execution_count": 44,
   "metadata": {},
   "outputs": [],
   "source": [
    "# concatenate actual protein profiles between conditions\n",
    "actual_profiles = TRANSPIRE.data.generate_translocations.make_translocations(df, comparisons, synthetic=False)\n",
    "\n",
    "predicted_scores = {}\n",
    "\n",
    "for k, _ in training_data.groupby(['condition_A', 'condition_B', 'fold']):\n",
    "    \n",
    "    condA, condB, fold = k\n",
    "    \n",
    "    X = actual_profiles[(actual_profiles.index.get_level_values('condition_A')==condA)&(actual_profiles.index.get_level_values('condition_B')==condB)].reset_index(['condition_A', 'condition_B'], drop=True)\n",
    "\n",
    "    m_path = [path for path in os.listdir(base_dir) if (all([str(s) in path for s in k])&(path.endswith('_{}'.format(k[-1]))))][0]\n",
    "\n",
    "    m = gpflow.saver.Saver().load(os.path.join(base_dir, m_path))\n",
    "\n",
    "    means, vars_ = m.predict_y(X.values)\n",
    "    means = pd.DataFrame(means, index=X.index)\n",
    "    vars_ = pd.DataFrame(vars_, index = X.index)\n",
    "\n",
    "    predicted_scores[k] = pd.concat([means, vars_], axis=1, keys = ['score', 'uncertainty'])\n",
    "\n",
    "    gpflow.reset_default_graph_and_session()\n",
    "    \n",
    "predicted_scores = pd.concat(predicted_scores, names = ['condition_A', 'condition_B', 'fold'])\n",
    "\n",
    "# average predictions across balanced folds\n",
    "predicted_scores = predicted_scores.stack([0, 1]).unstack('fold').mean(axis=1).unstack([-2, -1])"
   ]
  },
  {
   "cell_type": "markdown",
   "metadata": {},
   "source": [
    "**Map the predictions to their binary representation**"
   ]
  },
  {
   "cell_type": "code",
   "execution_count": 62,
   "metadata": {},
   "outputs": [
    {
     "data": {
      "text/html": [
       "<div>\n",
       "<style scoped>\n",
       "    .dataframe tbody tr th:only-of-type {\n",
       "        vertical-align: middle;\n",
       "    }\n",
       "\n",
       "    .dataframe tbody tr th {\n",
       "        vertical-align: top;\n",
       "    }\n",
       "\n",
       "    .dataframe thead th {\n",
       "        text-align: right;\n",
       "    }\n",
       "</style>\n",
       "<table border=\"1\" class=\"dataframe\">\n",
       "  <thead>\n",
       "    <tr style=\"text-align: right;\">\n",
       "      <th></th>\n",
       "      <th></th>\n",
       "      <th></th>\n",
       "      <th></th>\n",
       "      <th></th>\n",
       "      <th></th>\n",
       "      <th></th>\n",
       "      <th></th>\n",
       "      <th>translocation score</th>\n",
       "    </tr>\n",
       "    <tr>\n",
       "      <th>condition_A</th>\n",
       "      <th>condition_B</th>\n",
       "      <th>accession_A</th>\n",
       "      <th>gene name_A</th>\n",
       "      <th>localization_A</th>\n",
       "      <th>accession_B</th>\n",
       "      <th>gene name_B</th>\n",
       "      <th>localization_B</th>\n",
       "      <th></th>\n",
       "    </tr>\n",
       "  </thead>\n",
       "  <tbody>\n",
       "    <tr>\n",
       "      <td rowspan=\"5\" valign=\"top\">uninfected</td>\n",
       "      <td rowspan=\"5\" valign=\"top\">infected</td>\n",
       "      <td>A0AVT1</td>\n",
       "      <td>UBA6</td>\n",
       "      <td>NaN</td>\n",
       "      <td>A0AVT1</td>\n",
       "      <td>UBA6</td>\n",
       "      <td>NaN</td>\n",
       "      <td>0.934178</td>\n",
       "    </tr>\n",
       "    <tr>\n",
       "      <td>A0FGR8</td>\n",
       "      <td>ESYT2</td>\n",
       "      <td>NaN</td>\n",
       "      <td>A0FGR8</td>\n",
       "      <td>ESYT2</td>\n",
       "      <td>NaN</td>\n",
       "      <td>0.182076</td>\n",
       "    </tr>\n",
       "    <tr>\n",
       "      <td>A1L0T0</td>\n",
       "      <td>ILVBL</td>\n",
       "      <td>NaN</td>\n",
       "      <td>A1L0T0</td>\n",
       "      <td>ILVBL</td>\n",
       "      <td>NaN</td>\n",
       "      <td>0.234037</td>\n",
       "    </tr>\n",
       "    <tr>\n",
       "      <td>A2RRP1</td>\n",
       "      <td>NBAS</td>\n",
       "      <td>NaN</td>\n",
       "      <td>A2RRP1</td>\n",
       "      <td>NBAS</td>\n",
       "      <td>NaN</td>\n",
       "      <td>0.656223</td>\n",
       "    </tr>\n",
       "    <tr>\n",
       "      <td>A3KMH1</td>\n",
       "      <td>VWA8</td>\n",
       "      <td>NaN</td>\n",
       "      <td>A3KMH1</td>\n",
       "      <td>VWA8</td>\n",
       "      <td>NaN</td>\n",
       "      <td>0.126233</td>\n",
       "    </tr>\n",
       "  </tbody>\n",
       "</table>\n",
       "</div>"
      ],
      "text/plain": [
       "                                                                                                       translocation score\n",
       "condition_A condition_B accession_A gene name_A localization_A accession_B gene name_B localization_B                     \n",
       "uninfected  infected    A0AVT1      UBA6        NaN            A0AVT1      UBA6        NaN                        0.934178\n",
       "                        A0FGR8      ESYT2       NaN            A0FGR8      ESYT2       NaN                        0.182076\n",
       "                        A1L0T0      ILVBL       NaN            A1L0T0      ILVBL       NaN                        0.234037\n",
       "                        A2RRP1      NBAS        NaN            A2RRP1      NBAS        NaN                        0.656223\n",
       "                        A3KMH1      VWA8        NaN            A3KMH1      VWA8        NaN                        0.126233"
      ]
     },
     "execution_count": 62,
     "metadata": {},
     "output_type": "execute_result"
    }
   ],
   "source": [
    "binary_predictions = TRANSPIRE.utils.map_binary(predicted_scores.score, mapping_r)\n",
    "\n",
    "binary_predictions.head()"
   ]
  },
  {
   "cell_type": "markdown",
   "metadata": {},
   "source": [
    "**Determine which ones pass the defined FPR cutoff based on translocation score**"
   ]
  },
  {
   "cell_type": "code",
   "execution_count": 63,
   "metadata": {},
   "outputs": [],
   "source": [
    "passes_fpr_cutoff = binary_predictions['translocation score']>= cutoffs.loc[list(zip(binary_predictions.index.get_level_values('condition_A'), binary_predictions.index.get_level_values('condition_B')))].values"
   ]
  },
  {
   "cell_type": "markdown",
   "metadata": {},
   "source": [
    "## 12. Process and  save results"
   ]
  },
  {
   "cell_type": "code",
   "execution_count": 78,
   "metadata": {},
   "outputs": [],
   "source": [
    "pred_score = predicted_scores.score.max(axis=1)\n",
    "pred_label = predicted_scores.score.idxmax(axis=1).astype(int).map(mapping_r)\n",
    "\n",
    "processed_data = pd.concat([pred_score, pred_label, binary_predictions['translocation score'], passes_fpr_cutoff], axis=1, keys = ['predicted score', 'predicted label', 'translocation score', 'passes cutoff?'])"
   ]
  },
  {
   "cell_type": "code",
   "execution_count": 80,
   "metadata": {},
   "outputs": [],
   "source": [
    "processed_data.to_csv(os.path.join('results.csv'))"
   ]
  }
 ],
 "metadata": {
  "kernelspec": {
   "display_name": "Python 3",
   "language": "python",
   "name": "python3"
  },
  "language_info": {
   "codemirror_mode": {
    "name": "ipython",
    "version": 3
   },
   "file_extension": ".py",
   "mimetype": "text/x-python",
   "name": "python",
   "nbconvert_exporter": "python",
   "pygments_lexer": "ipython3",
   "version": "3.7.5"
  }
 },
 "nbformat": 4,
 "nbformat_minor": 2
}
